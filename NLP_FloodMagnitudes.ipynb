{
 "cells": [
  {
   "cell_type": "markdown",
   "id": "e0333391-8fb5-42f1-b1fc-be7545061090",
   "metadata": {},
   "source": [
    "# NLP Project: Can I identify flood magnitudes from FloodList articles for UK?\n",
    "\n",
    "Workflow:\n",
    "1. Load the data\n",
    "2. Remove non-english characters\n",
    "3. Process data and save to csv/df\n",
    "4. Tokenize the text\n",
    "5. Remove stopwords\n",
    "6. Perform stemming/lemmatization\n",
    "7. Extract relevant keywords and rainfall values\n",
    "8. Feature engineering - convert text to numerical features like bag of words, TF-IDF\n",
    "9. Prepare for classification of data\n",
    "10. Make train/test set"
   ]
  },
  {
   "cell_type": "code",
   "execution_count": 4,
   "id": "b0242963-879a-4e93-97c1-8fe61e7bb2c9",
   "metadata": {},
   "outputs": [
    {
     "name": "stdout",
     "output_type": "stream",
     "text": [
      "                                               Title               Date  \\\n",
      "0  UK – Over 1,000 Homes Damaged, Hundreds Evacua...   24 October, 2023   \n",
      "1  UK – Evacuations After Floods in Devon and Som...       10 May, 2023   \n",
      "2  Intense Downpours in the UK Will Increase Due ...      9 March, 2023   \n",
      "3  UK – Thousands of Trees to Be Planted at Flood...  22 February, 2023   \n",
      "4  UK – England May Be Set to Flood at the End of...   12 January, 2023   \n",
      "\n",
      "                                           Full Text  \\\n",
      "0  Parts of the United Kingdom continue to grappl...   \n",
      "1  Storms and heavy rain brought flash flooding t...   \n",
      "2  In the United Kingdom, intense downpours excee...   \n",
      "3  Thousands of trees are to be planted as part o...   \n",
      "4  England may be set to flood at the end of wint...   \n",
      "\n",
      "                                                Link  \n",
      "0  https://floodlist.com/europe/floods-england-sc...  \n",
      "1  https://floodlist.com/europe/united-kingdom/fl...  \n",
      "2  https://floodlist.com/europe/united-kingdom/in...  \n",
      "3  https://floodlist.com/protection/trees-flood-d...  \n",
      "4  https://floodlist.com/europe/united-kingdom/en...  \n"
     ]
    }
   ],
   "source": [
    "import pandas as pd\n",
    "\n",
    "uk_article_file_csv = 'uk_flood_articles_80.csv'  # File is in the same directory as the notebook\n",
    "df = pd.read_csv(uk_article_file_csv)\n",
    "print(df.head())"
   ]
  },
  {
   "cell_type": "code",
   "execution_count": 40,
   "id": "45fd5338-72bd-4b67-8b41-b6cb84a5f708",
   "metadata": {},
   "outputs": [],
   "source": [
    "import re, nltk, string, unicodedata"
   ]
  },
  {
   "cell_type": "code",
   "execution_count": 42,
   "id": "03f60520-5942-4cdf-bad3-96f1a11a7f9a",
   "metadata": {},
   "outputs": [
    {
     "data": {
      "text/plain": [
       "['i', 'me', 'my', 'myself', 'we', 'our', 'ours', 'ourselves', 'you', \"you're\"]"
      ]
     },
     "execution_count": 42,
     "metadata": {},
     "output_type": "execute_result"
    }
   ],
   "source": [
    "from nltk.corpus import stopwords\n",
    "stopwords.words('english')[0:10]"
   ]
  },
  {
   "cell_type": "code",
   "execution_count": 44,
   "id": "a41645cb-1f24-4ee4-84e9-399e6e9371de",
   "metadata": {},
   "outputs": [
    {
     "data": {
      "text/plain": [
       "80"
      ]
     },
     "execution_count": 44,
     "metadata": {},
     "output_type": "execute_result"
    }
   ],
   "source": [
    "stop_words = set(stopwords.words('english'))\n",
    "full_text_list = df['Full Text'].tolist()\n",
    "row_count = len(full_text_list)\n",
    "row_count"
   ]
  },
  {
   "cell_type": "code",
   "execution_count": 89,
   "id": "407461ea-3fba-47fc-8429-b5b7d6a80db7",
   "metadata": {},
   "outputs": [
    {
     "name": "stdout",
     "output_type": "stream",
     "text": [
      "['Parts United Kingdom continue grapple widespread flooding stemming passage Storm Babet Authorities confirmed grim toll least four fatalities linked storm swept nation recent days Hundreds people evacuated homes parts Scotland central northern England Previously flooding storm caused major damages southwest Ireland UK’s Met Office said Storm Babet brought period heavy rainfall many areas UK locations recorded well average October rainfall days Heavy rain Storm Babet falling ground previously saturated earlier storm caused flooding parts Scotland 19 October 2023 residents hundreds homes told evacuate Brechin Tannadice Finavon western Scotland following warnings flooding along South Esk North Esk Rivers Police reported one person died swept Water Lee Glen Esk second person confirmed killed falling tree hit van near Forfar Rescue services searching man reportedly trapped vehicle caught flood water near Marykirk Aberdeenshire Homes also evacuated Peterculter Aberdeen Parts Scotland previously saw flooding landslides heavy rain 07 October 2023 Ten people airlifted vehicles coastguard helicopter flooding landslides closed roads near Inveraray late 08 October levels Tay Perth extremely high Dee Spey Rivers broke banks 09 October one person reported missing later found dead floods near Tay River near Strathtay England counties Derbyshire Nottinghamshire Suffolk declared major incidents response extensive flooding Storm Babet update 23 October Environment Agency EA said total number properties reported flooded stands 1260 Environment Agency teams ground working affected areas Temporary defences including pumps barriers deployed minimise impact flooding needed Flood gates also closed affected areas estimated 41000 properties protected part Environment Agency’s response EA’s flood warning service sent 300000 messages email telephone text Storm Babet EA said teams still responding severe flooding Derbyshire Nottinghamshire catchments rivers exceeded previous highest levels 2007 Derby City Council said River Derwent saw recordbreaking water levels weekend Sarah Cook flood duty manager Environment Agency said “More rain expected especially Nottinghamshire region falling saturated ground meaning risk continued high levels rivers Trent River Idle significant river flooding possible expected continue Wednesday” Fire Rescue service rescued evacuated people homes Sandiacre Long Eaton Stapleford near Nottingham areas Chesterfield elderly person tragically died trapped flooded house local Member Parliament Toby Perkins said 400 homes Chesterfield constituency flooded Authorities urged residents around 500 homes evacuate rising levels River Idle Nottinghamshire threatened flood areas West Retford Ordsal Retford Eaton Gamston River Idle reached record levels 179 metres Ordsal 22 October previous record high 165 metres set June 2007 county Lincolnshire Fire Rescue Service said 170 homes businesses flooded recent days mostly areas Lincoln Horncastle Tattershall Woodhall Spa Wainfleet Kirkby Bain Around 40 people evacuated homes Wainfleet River Steeping reached record high 222 metres 21 October previous high 212 metres set June 2007 Suffolk county declared major incident due flooding asking people travel unless “absolutely essential” Areas badly hit floods towns villages Babergh Mid Suffolk districts West Midlands England authorities Worcestershire Shropshire preparing flooding along along River Severn coming days One person died getting caught flood water Cleobury Mortimer Shropshire 20 October Areas county Yorkshire also affected Around 250 homes evacuated Catcliffe near Rotherham River Rother reached record levels 3052 metres 21 October previous high 3037 metres set June 2007 “Our heartfelt sympathies condolences lost loved ones Storm Babet well experiencing devastating impact homes businesses flooded” Sarah Cook flood duty manager Environment Agency said Previously Storm Babet caused major flooding damages parts southwestern Ireland Flood barriers erected across Cork Kerry Waterford Storm Babet started sweep across country 18 October 2023 early 18 October roads flooded County Cork including Cobh Glanmire Killeagh Midleton 100 properties flooded Defence Force teams deployed Midleton assist flood victims County Cork Council also reported flooding properties Whitegate Rathcormac Glandore Ringaskiddy Carrigaline Raffeen Halfway Castletownbere Roads flooded Castlemartyr Kiltha river burst banks local government County Waterford reported flooded roads western parts county including Ticknock Ballinameela Aglish Breaking NewsEnglandHeadlineIrelandScotland', 'Storms heavy rain brought flash flooding parts England Wales United Kingdom 09 May 2023 Homes roads flooded Somerset Devon South West Flooding also reported North Wales parts South East England Devon Somerset Fire Rescue Service said received “widespread” calls help due flooding around midday 09 May 2023 Around 5 homes flooded along several roads areas Exeter Devon Roads school buildings affected Tipton St John near Exeter weather station Exeter Met Office recorded 415 mm rain 24 hours early 10 May farm building destroyed vehicle damaged floods Newton Poppleford Devon Devon Somerset Fire Rescue Service carried least 4 rescue operations motorists trapped floods Taunton North Cadbury Somerset residents forced evacuate 18 homes area flooded Seven flood warnings place 10 May 2023 including River Cam flows village North Cadbury Levels River Cam nearby Weston Bampfylde reached 285 metres 09 May According Environment Agency property flooding possible 060 metres Flood warnings still place areas Weston Bampfylde Speckington River Otter Dotton near Newton Poppleford reached 155 metres 09 May According Environment Agency flooding lowlying land possible 140 metres Areas Hertfordshire Northamptonshire Essex Cambridgeshire England saw heavy rain storms moved east rail services Cambridge suspended due severe weather North Wales Fire Rescue Service say received number reports flash floods Wrexham area several roads flooded Breaking NewsEnglandWales']\n"
     ]
    }
   ],
   "source": [
    "# Process the text\n",
    "cleaned_list = []\n",
    "\n",
    "for text in full_text_list:\n",
    "    if isinstance(text, str):  # Ensure the value is a string\n",
    "        # Step 1: Remove punctuation\n",
    "        nopunc = ''.join([char for char in text if char not in string.punctuation])\n",
    "        \n",
    "        # Step 2: Remove stopwords\n",
    "        clean_words = [word for word in nopunc.split() if word.lower() not in stop_words]\n",
    "        \n",
    "        # Add the cleaned text as a joined string to the list\n",
    "        cleaned_list.append(' '.join(clean_words))\n",
    "    else:\n",
    "        cleaned_list.append('')  # Handle non-string values with an empty string\n",
    "\n",
    "print(cleaned_list[:2])"
   ]
  },
  {
   "cell_type": "code",
   "execution_count": null,
   "id": "6df4d65b-8b05-40ec-9fc4-b092cad6e084",
   "metadata": {},
   "outputs": [],
   "source": []
  },
  {
   "cell_type": "code",
   "execution_count": 58,
   "id": "601c44e0-6fd2-4db3-8400-aa377295282b",
   "metadata": {},
   "outputs": [
    {
     "data": {
      "text/plain": [
       "['Storms',\n",
       " 'heavy',\n",
       " 'rain',\n",
       " 'brought',\n",
       " 'flash',\n",
       " 'flooding',\n",
       " 'parts',\n",
       " 'England',\n",
       " 'Wales',\n",
       " 'United',\n",
       " 'Kingdom',\n",
       " '09',\n",
       " 'May',\n",
       " '2023',\n",
       " 'Homes',\n",
       " 'roads',\n",
       " 'flooded',\n",
       " 'Somerset',\n",
       " 'Devon',\n",
       " 'South',\n",
       " 'West',\n",
       " 'Flooding',\n",
       " 'also',\n",
       " 'reported',\n",
       " 'North',\n",
       " 'Wales',\n",
       " 'parts',\n",
       " 'South',\n",
       " 'East',\n",
       " 'England',\n",
       " 'Devon',\n",
       " 'Somerset',\n",
       " 'Fire',\n",
       " 'Rescue',\n",
       " 'Service',\n",
       " 'said',\n",
       " 'received',\n",
       " '“widespread”',\n",
       " 'calls',\n",
       " 'help',\n",
       " 'due',\n",
       " 'flooding',\n",
       " 'around',\n",
       " 'midday',\n",
       " '09',\n",
       " 'May',\n",
       " '2023',\n",
       " 'Around',\n",
       " '5',\n",
       " 'homes',\n",
       " 'flooded',\n",
       " 'along',\n",
       " 'several',\n",
       " 'roads',\n",
       " 'areas',\n",
       " 'Exeter',\n",
       " 'Devon',\n",
       " 'Roads',\n",
       " 'school',\n",
       " 'buildings',\n",
       " 'affected',\n",
       " 'Tipton',\n",
       " 'St',\n",
       " 'John',\n",
       " 'near',\n",
       " 'Exeter',\n",
       " 'weather',\n",
       " 'station',\n",
       " 'Exeter',\n",
       " 'Met',\n",
       " 'Office',\n",
       " 'recorded',\n",
       " '415',\n",
       " 'mm',\n",
       " 'rain',\n",
       " '24',\n",
       " 'hours',\n",
       " 'early',\n",
       " '10',\n",
       " 'May',\n",
       " 'farm',\n",
       " 'building',\n",
       " 'destroyed',\n",
       " 'vehicle',\n",
       " 'damaged',\n",
       " 'floods',\n",
       " 'Newton',\n",
       " 'Poppleford',\n",
       " 'Devon',\n",
       " 'Devon',\n",
       " 'Somerset',\n",
       " 'Fire',\n",
       " 'Rescue',\n",
       " 'Service',\n",
       " 'carried',\n",
       " 'least',\n",
       " '4',\n",
       " 'rescue',\n",
       " 'operations',\n",
       " 'motorists',\n",
       " 'trapped',\n",
       " 'floods',\n",
       " 'Taunton',\n",
       " 'North',\n",
       " 'Cadbury',\n",
       " 'Somerset',\n",
       " 'residents',\n",
       " 'forced',\n",
       " 'evacuate',\n",
       " '18',\n",
       " 'homes',\n",
       " 'area',\n",
       " 'flooded',\n",
       " 'Seven',\n",
       " 'flood',\n",
       " 'warnings',\n",
       " 'place',\n",
       " '10',\n",
       " 'May',\n",
       " '2023',\n",
       " 'including',\n",
       " 'River',\n",
       " 'Cam',\n",
       " 'flows',\n",
       " 'village',\n",
       " 'North',\n",
       " 'Cadbury',\n",
       " 'Levels',\n",
       " 'River',\n",
       " 'Cam',\n",
       " 'nearby',\n",
       " 'Weston',\n",
       " 'Bampfylde',\n",
       " 'reached',\n",
       " '285',\n",
       " 'metres',\n",
       " '09',\n",
       " 'May',\n",
       " 'According',\n",
       " 'Environment',\n",
       " 'Agency',\n",
       " 'property',\n",
       " 'flooding',\n",
       " 'possible',\n",
       " '060',\n",
       " 'metres',\n",
       " 'Flood',\n",
       " 'warnings',\n",
       " 'still',\n",
       " 'place',\n",
       " 'areas',\n",
       " 'Weston',\n",
       " 'Bampfylde',\n",
       " 'Speckington',\n",
       " 'River',\n",
       " 'Otter',\n",
       " 'Dotton',\n",
       " 'near',\n",
       " 'Newton',\n",
       " 'Poppleford',\n",
       " 'reached',\n",
       " '155',\n",
       " 'metres',\n",
       " '09',\n",
       " 'May',\n",
       " 'According',\n",
       " 'Environment',\n",
       " 'Agency',\n",
       " 'flooding',\n",
       " 'lowlying',\n",
       " 'land',\n",
       " 'possible',\n",
       " '140',\n",
       " 'metres',\n",
       " 'Areas',\n",
       " 'Hertfordshire',\n",
       " 'Northamptonshire',\n",
       " 'Essex',\n",
       " 'Cambridgeshire',\n",
       " 'England',\n",
       " 'saw',\n",
       " 'heavy',\n",
       " 'rain',\n",
       " 'storms',\n",
       " 'moved',\n",
       " 'east',\n",
       " 'rail',\n",
       " 'services',\n",
       " 'Cambridge',\n",
       " 'suspended',\n",
       " 'due',\n",
       " 'severe',\n",
       " 'weather',\n",
       " 'North',\n",
       " 'Wales',\n",
       " 'Fire',\n",
       " 'Rescue',\n",
       " 'Service',\n",
       " 'say',\n",
       " 'received',\n",
       " 'number',\n",
       " 'reports',\n",
       " 'flash',\n",
       " 'floods',\n",
       " 'Wrexham',\n",
       " 'area',\n",
       " 'several',\n",
       " 'roads',\n",
       " 'flooded',\n",
       " 'Breaking',\n",
       " 'NewsEnglandWales']"
      ]
     },
     "execution_count": 58,
     "metadata": {},
     "output_type": "execute_result"
    }
   ],
   "source": [
    "tokenized_article_list = [article.split() for article in cleaned_list]\n",
    "tokenized_article_list[1]"
   ]
  },
  {
   "cell_type": "code",
   "execution_count": 76,
   "id": "c0467ce2-bf9a-4ae9-8163-ed3298e84e0e",
   "metadata": {},
   "outputs": [],
   "source": [
    "# Okay the idea is to do some stemming because i am looking for articles which talk about flash flood and consequent flood depths\n",
    "# So i have to classify the articles as mentioning flash floods or not. so this would be binary. i guess i'll go with naive bayes here.\n",
    "# feature engineering er pore tf idf kore i need to identify the significance of the keyword in each article\n",
    "# erpor flood depth data extraction will be required using regular expressions\n",
    "# usually depth would be paired with 'meters' or 'm' so i need to make the model focus on numbers paired with 'meters' or 'm' like 1.5 meters or 0.3m\n",
    "\n"
   ]
  },
  {
   "cell_type": "code",
   "execution_count": 85,
   "id": "d1b4f794-c0e1-4477-a86a-ec6b93399bcd",
   "metadata": {},
   "outputs": [
    {
     "name": "stdout",
     "output_type": "stream",
     "text": [
      "                                            Full Text  Flash_Flood_Mentioned\n",
      "0   Parts of the United Kingdom continue to grappl...                      0\n",
      "1   Storms and heavy rain brought flash flooding t...                      1\n",
      "2   In the United Kingdom, intense downpours excee...                      0\n",
      "3   Thousands of trees are to be planted as part o...                      0\n",
      "4   England may be set to flood at the end of wint...                      0\n",
      "5   Police in UK report that one person is missing...                      1\n",
      "6   Hundreds of homes have been flooded in England...                      0\n",
      "7   Thunderstorms affected parts of western Europe...                      1\n",
      "8   Heavy rainfall in eastern England, UK on 09 Ju...                      1\n",
      "9   More than 300,000 homes in England are now bet...                      0\n",
      "10  Overlapping disasters struck parts of England ...                      0\n",
      "11  Storm Christoph brought heavy rain to parts of...                      0\n",
      "12  Heavy rainfall brought by Storm Bella caused f...                      0\n",
      "13  Heavy rainfall swept across parts of the Unite...                      1\n",
      "14  LONDON, Nov 20 (Thomson Reuters Foundation) – ...                      0\n",
      "15  Heavy rain in northern England has led to rive...                      0\n",
      "16  Storm Francis brought strong winds, rough seas...                      0\n",
      "17  After days of high temperatures, heavy rainfal...                      1\n",
      "18  The UK government currently spends £2.6 billio...                      0\n",
      "19  PERILS, the independent Zurich-based organisat...                      0\n"
     ]
    }
   ],
   "source": [
    "# Add a \"Flash Flood Mentioned\" column\n",
    "df['Flash_Flood_Mentioned'] = [\n",
    "    1 if 'flash' in article and 'flood' in article[article.index('flash') + 1:] else 0\n",
    "    # looks for the word 'flash' in article\n",
    "    # anddd looks for the word 'flood' in article\n",
    "    # for that it queries at which index 'flash' is mentioned\n",
    "    # then it checks for the immediate next index if 'flood' is mentioned\n",
    "    for article in tokenized_article_list\n",
    "]\n",
    "\n",
    "# Preview the results\n",
    "print(df[['Full Text', 'Flash_Flood_Mentioned']].head(20))"
   ]
  },
  {
   "cell_type": "code",
   "execution_count": 103,
   "id": "2db0cdcf-c8da-4a08-8c85-71eb9d096318",
   "metadata": {},
   "outputs": [
    {
     "data": {
      "text/plain": [
       "array(['01', '01082019', '02', ..., 'zoom', 'zurichbased', 'éireann'],\n",
       "      dtype=object)"
      ]
     },
     "execution_count": 103,
     "metadata": {},
     "output_type": "execute_result"
    }
   ],
   "source": [
    "# check for the frequency of words in your articles, but before that split the dataset into training and testing sets\n",
    "from sklearn.feature_extraction.text import CountVectorizer\n",
    "\n",
    "# Initialize CountVectorizer\n",
    "vectorizer = CountVectorizer()\n",
    "\n",
    "#bag of words codes\n",
    "bow_matrix = vectorizer.fit_transform(cleaned_list)\n",
    "# bow_matrix\n",
    "word_frequencies = bow_matrix.sum()\n",
    "vocab = vectorizer.get_feature_names_out()\n",
    "vocab"
   ]
  },
  {
   "cell_type": "code",
   "execution_count": 107,
   "id": "158bc25c-aef9-42d4-a9f9-b698be7747ea",
   "metadata": {},
   "outputs": [],
   "source": [
    "word_freq_dict = dict(zip(vocab, word_frequencies))\n",
    "total_unique_words = len(vocab)"
   ]
  },
  {
   "cell_type": "code",
   "execution_count": 109,
   "id": "4da7fa57-ac57-4a2e-b4c4-08203a52fac3",
   "metadata": {},
   "outputs": [
    {
     "data": {
      "text/plain": [
       "5800"
      ]
     },
     "execution_count": 109,
     "metadata": {},
     "output_type": "execute_result"
    }
   ],
   "source": [
    "total_unique_words"
   ]
  },
  {
   "cell_type": "code",
   "execution_count": 111,
   "id": "170b78a0-d94f-4662-89f8-fe0c03e299f0",
   "metadata": {},
   "outputs": [
    {
     "name": "stdout",
     "output_type": "stream",
     "text": [
      "Top 5 Most Frequent Words: [('flood', 567), ('flooding', 450), ('water', 235), ('said', 200), ('england', 197)]\n"
     ]
    }
   ],
   "source": [
    "# Extract dictionary items into a list of tuples\n",
    "word_freq_items = list(word_freq_dict.items())  # Example: [('word1', 4), ('word2', 2), ...]\n",
    "\n",
    "# Define a function to get the frequency (value) from a tuple\n",
    "def get_frequency(item):\n",
    "    return item[1]  # The frequency is the second element of the tuple (index 1)\n",
    "\n",
    "# Sort the list of tuples by frequency in descending order\n",
    "sorted_word_freq = sorted(word_freq_items, key=get_frequency, reverse=True)\n",
    "\n",
    "# Get the top 5 most frequent words\n",
    "top_5_words = sorted_word_freq[:5]\n",
    "\n",
    "# Print the result\n",
    "print(\"Top 5 Most Frequent Words:\", top_5_words)"
   ]
  },
  {
   "cell_type": "code",
   "execution_count": null,
   "id": "1cb9286d-beb7-4879-8e34-119f1d2c15bc",
   "metadata": {},
   "outputs": [],
   "source": []
  }
 ],
 "metadata": {
  "kernelspec": {
   "display_name": "Python [conda env:base] *",
   "language": "python",
   "name": "conda-base-py"
  },
  "language_info": {
   "codemirror_mode": {
    "name": "ipython",
    "version": 3
   },
   "file_extension": ".py",
   "mimetype": "text/x-python",
   "name": "python",
   "nbconvert_exporter": "python",
   "pygments_lexer": "ipython3",
   "version": "3.11.4"
  }
 },
 "nbformat": 4,
 "nbformat_minor": 5
}
